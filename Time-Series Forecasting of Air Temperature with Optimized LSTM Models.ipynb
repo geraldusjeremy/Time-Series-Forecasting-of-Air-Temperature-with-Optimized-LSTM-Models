{
  "nbformat": 4,
  "nbformat_minor": 0,
  "metadata": {
    "colab": {
      "provenance": [],
      "gpuType": "T4"
    },
    "kernelspec": {
      "name": "python3",
      "display_name": "Python 3"
    },
    "language_info": {
      "name": "python"
    },
    "accelerator": "GPU"
  },
  "cells": [
    {
      "cell_type": "markdown",
      "source": [
        "**Nama : Geraldus Jeremy Chandra**\n",
        "\n",
        "**NIM : 2702368236**"
      ],
      "metadata": {
        "id": "u1EOIvHG5nCv"
      }
    },
    {
      "cell_type": "markdown",
      "source": [
        "**TUJUAN**\n",
        "\n"
      ],
      "metadata": {
        "id": "lbux1pQF5sOR"
      }
    },
    {
      "cell_type": "markdown",
      "source": [
        "Pada soal pertama ini, tujuannya adalah untuk membandingkan model mana yang paling bagus untuk prediksi kualitas udara suatu wilayah (AT) dengan pendekatan LSTM menggunakan MAE, MSE, dan R2 square sebagai acuan. Ada 3 model yang akan dibandingkan, yaitu model baseline, model baseline yang dimodify manual, dan model baseline yang dimodify dengan hyperparameter tuning."
      ],
      "metadata": {
        "id": "nATFoZ2i7z6Y"
      }
    },
    {
      "cell_type": "code",
      "source": [
        "!pip install -q keras-tuner"
      ],
      "metadata": {
        "colab": {
          "base_uri": "https://localhost:8080/"
        },
        "id": "fhz5Vik2VQ-5",
        "outputId": "7dcadea4-394f-42b2-99e7-25214bdf7a15"
      },
      "execution_count": null,
      "outputs": [
        {
          "output_type": "stream",
          "name": "stdout",
          "text": [
            "\u001b[?25l   \u001b[90m━━━━━━━━━━━━━━━━━━━━━━━━━━━━━━━━━━━━━━━━\u001b[0m \u001b[32m0.0/129.1 kB\u001b[0m \u001b[31m?\u001b[0m eta \u001b[36m-:--:--\u001b[0m\r\u001b[2K   \u001b[90m━━━━━━━━━━━━━━━━━━━━━━━━━━━━━━━━━━━━━━━━\u001b[0m \u001b[32m129.1/129.1 kB\u001b[0m \u001b[31m6.2 MB/s\u001b[0m eta \u001b[36m0:00:00\u001b[0m\n",
            "\u001b[?25h"
          ]
        }
      ]
    },
    {
      "cell_type": "markdown",
      "source": [
        "**IMPORT LIBRARY**"
      ],
      "metadata": {
        "id": "LAOKN8aw5xIy"
      }
    },
    {
      "cell_type": "code",
      "execution_count": null,
      "metadata": {
        "id": "Jq5ogtj6aHZN"
      },
      "outputs": [],
      "source": [
        "import pandas as pd\n",
        "import numpy as np\n",
        "import matplotlib.pyplot as plt\n",
        "import seaborn as sns\n",
        "from sklearn.preprocessing import MinMaxScaler\n",
        "import tensorflow as tf\n",
        "from tensorflow import keras\n",
        "from tensorflow.keras.models import Model\n",
        "from tensorflow.keras.layers import Input, LSTM, Dense, Dropout\n",
        "from tensorflow.keras.optimizers import Adam\n",
        "from tensorflow.keras.callbacks import EarlyStopping\n",
        "import keras_tuner as kt\n",
        "import os\n",
        "from sklearn.metrics import mean_absolute_error, mean_squared_error, r2_score"
      ]
    },
    {
      "cell_type": "markdown",
      "source": [
        "**EDA & PREPROCESSING**"
      ],
      "metadata": {
        "id": "9-Re7ZkmiBQV"
      }
    },
    {
      "cell_type": "code",
      "source": [
        "df = pd.read_csv(\"AP003.csv\")"
      ],
      "metadata": {
        "id": "4LXpM06jbop0"
      },
      "execution_count": null,
      "outputs": []
    },
    {
      "cell_type": "code",
      "source": [
        "df.head()"
      ],
      "metadata": {
        "colab": {
          "base_uri": "https://localhost:8080/",
          "height": 464
        },
        "id": "ST4SG4y5bxPt",
        "outputId": "ac8fd1b6-f96b-480f-aba2-7b38dee6061a"
      },
      "execution_count": null,
      "outputs": [
        {
          "output_type": "execute_result",
          "data": {
            "text/plain": [
              "             From Date              To Date  PM2.5 (ug/m3)  PM10 (ug/m3)  \\\n",
              "0  2017-07-01 00:00:00  2017-07-01 01:00:00          50.00         91.75   \n",
              "1  2017-07-01 01:00:00  2017-07-01 02:00:00          30.75         59.25   \n",
              "2  2017-07-01 02:00:00  2017-07-01 03:00:00            NaN           NaN   \n",
              "3  2017-07-01 03:00:00  2017-07-01 04:00:00           8.00           NaN   \n",
              "4  2017-07-01 04:00:00  2017-07-01 05:00:00          33.25           NaN   \n",
              "\n",
              "   NO (ug/m3)  NO2 (ug/m3)  NOx (ppb)  NH3 (ug/m3)  SO2 (ug/m3)  CO (mg/m3)  \\\n",
              "0        3.33        27.70      17.48          NaN        24.35        1.33   \n",
              "1        1.20        20.78      11.40         0.03         8.23        1.77   \n",
              "2        1.17         4.07       2.73         0.10        10.77        1.20   \n",
              "3        2.58         6.38       5.30          NaN        19.78        1.58   \n",
              "4        5.30        21.03      15.47         0.15        22.40        2.25   \n",
              "\n",
              "   ...  Temp (degree C)  RH (%)  WS (m/s)  WD (degree)  SR (W/mt2)  BP (mmHg)  \\\n",
              "0  ...            55.22   83.25      1.67       285.50        6.75      737.0   \n",
              "1  ...            57.48   84.50      2.50       299.50        6.75      736.0   \n",
              "2  ...            58.67   86.00      0.77       285.67        6.67      736.0   \n",
              "3  ...            58.93   86.00      1.55       302.50        6.00      735.0   \n",
              "4  ...            59.88   86.00      2.30       297.25        6.00      735.0   \n",
              "\n",
              "   VWS (m/s)  AT (degree C)  RF (mm)  Xylene (ug/m3)  \n",
              "0       0.03          26.30     0.00            0.65  \n",
              "1       0.05          25.00     1.50            0.50  \n",
              "2       0.03          24.17     0.33            0.43  \n",
              "3       0.08          24.10     0.00            0.63  \n",
              "4       0.08          24.90     0.00            0.67  \n",
              "\n",
              "[5 rows x 23 columns]"
            ],
            "text/html": [
              "\n",
              "  <div id=\"df-940ff8d5-88a5-4ed5-89ea-2d5b614de093\" class=\"colab-df-container\">\n",
              "    <div>\n",
              "<style scoped>\n",
              "    .dataframe tbody tr th:only-of-type {\n",
              "        vertical-align: middle;\n",
              "    }\n",
              "\n",
              "    .dataframe tbody tr th {\n",
              "        vertical-align: top;\n",
              "    }\n",
              "\n",
              "    .dataframe thead th {\n",
              "        text-align: right;\n",
              "    }\n",
              "</style>\n",
              "<table border=\"1\" class=\"dataframe\">\n",
              "  <thead>\n",
              "    <tr style=\"text-align: right;\">\n",
              "      <th></th>\n",
              "      <th>From Date</th>\n",
              "      <th>To Date</th>\n",
              "      <th>PM2.5 (ug/m3)</th>\n",
              "      <th>PM10 (ug/m3)</th>\n",
              "      <th>NO (ug/m3)</th>\n",
              "      <th>NO2 (ug/m3)</th>\n",
              "      <th>NOx (ppb)</th>\n",
              "      <th>NH3 (ug/m3)</th>\n",
              "      <th>SO2 (ug/m3)</th>\n",
              "      <th>CO (mg/m3)</th>\n",
              "      <th>...</th>\n",
              "      <th>Temp (degree C)</th>\n",
              "      <th>RH (%)</th>\n",
              "      <th>WS (m/s)</th>\n",
              "      <th>WD (degree)</th>\n",
              "      <th>SR (W/mt2)</th>\n",
              "      <th>BP (mmHg)</th>\n",
              "      <th>VWS (m/s)</th>\n",
              "      <th>AT (degree C)</th>\n",
              "      <th>RF (mm)</th>\n",
              "      <th>Xylene (ug/m3)</th>\n",
              "    </tr>\n",
              "  </thead>\n",
              "  <tbody>\n",
              "    <tr>\n",
              "      <th>0</th>\n",
              "      <td>2017-07-01 00:00:00</td>\n",
              "      <td>2017-07-01 01:00:00</td>\n",
              "      <td>50.00</td>\n",
              "      <td>91.75</td>\n",
              "      <td>3.33</td>\n",
              "      <td>27.70</td>\n",
              "      <td>17.48</td>\n",
              "      <td>NaN</td>\n",
              "      <td>24.35</td>\n",
              "      <td>1.33</td>\n",
              "      <td>...</td>\n",
              "      <td>55.22</td>\n",
              "      <td>83.25</td>\n",
              "      <td>1.67</td>\n",
              "      <td>285.50</td>\n",
              "      <td>6.75</td>\n",
              "      <td>737.0</td>\n",
              "      <td>0.03</td>\n",
              "      <td>26.30</td>\n",
              "      <td>0.00</td>\n",
              "      <td>0.65</td>\n",
              "    </tr>\n",
              "    <tr>\n",
              "      <th>1</th>\n",
              "      <td>2017-07-01 01:00:00</td>\n",
              "      <td>2017-07-01 02:00:00</td>\n",
              "      <td>30.75</td>\n",
              "      <td>59.25</td>\n",
              "      <td>1.20</td>\n",
              "      <td>20.78</td>\n",
              "      <td>11.40</td>\n",
              "      <td>0.03</td>\n",
              "      <td>8.23</td>\n",
              "      <td>1.77</td>\n",
              "      <td>...</td>\n",
              "      <td>57.48</td>\n",
              "      <td>84.50</td>\n",
              "      <td>2.50</td>\n",
              "      <td>299.50</td>\n",
              "      <td>6.75</td>\n",
              "      <td>736.0</td>\n",
              "      <td>0.05</td>\n",
              "      <td>25.00</td>\n",
              "      <td>1.50</td>\n",
              "      <td>0.50</td>\n",
              "    </tr>\n",
              "    <tr>\n",
              "      <th>2</th>\n",
              "      <td>2017-07-01 02:00:00</td>\n",
              "      <td>2017-07-01 03:00:00</td>\n",
              "      <td>NaN</td>\n",
              "      <td>NaN</td>\n",
              "      <td>1.17</td>\n",
              "      <td>4.07</td>\n",
              "      <td>2.73</td>\n",
              "      <td>0.10</td>\n",
              "      <td>10.77</td>\n",
              "      <td>1.20</td>\n",
              "      <td>...</td>\n",
              "      <td>58.67</td>\n",
              "      <td>86.00</td>\n",
              "      <td>0.77</td>\n",
              "      <td>285.67</td>\n",
              "      <td>6.67</td>\n",
              "      <td>736.0</td>\n",
              "      <td>0.03</td>\n",
              "      <td>24.17</td>\n",
              "      <td>0.33</td>\n",
              "      <td>0.43</td>\n",
              "    </tr>\n",
              "    <tr>\n",
              "      <th>3</th>\n",
              "      <td>2017-07-01 03:00:00</td>\n",
              "      <td>2017-07-01 04:00:00</td>\n",
              "      <td>8.00</td>\n",
              "      <td>NaN</td>\n",
              "      <td>2.58</td>\n",
              "      <td>6.38</td>\n",
              "      <td>5.30</td>\n",
              "      <td>NaN</td>\n",
              "      <td>19.78</td>\n",
              "      <td>1.58</td>\n",
              "      <td>...</td>\n",
              "      <td>58.93</td>\n",
              "      <td>86.00</td>\n",
              "      <td>1.55</td>\n",
              "      <td>302.50</td>\n",
              "      <td>6.00</td>\n",
              "      <td>735.0</td>\n",
              "      <td>0.08</td>\n",
              "      <td>24.10</td>\n",
              "      <td>0.00</td>\n",
              "      <td>0.63</td>\n",
              "    </tr>\n",
              "    <tr>\n",
              "      <th>4</th>\n",
              "      <td>2017-07-01 04:00:00</td>\n",
              "      <td>2017-07-01 05:00:00</td>\n",
              "      <td>33.25</td>\n",
              "      <td>NaN</td>\n",
              "      <td>5.30</td>\n",
              "      <td>21.03</td>\n",
              "      <td>15.47</td>\n",
              "      <td>0.15</td>\n",
              "      <td>22.40</td>\n",
              "      <td>2.25</td>\n",
              "      <td>...</td>\n",
              "      <td>59.88</td>\n",
              "      <td>86.00</td>\n",
              "      <td>2.30</td>\n",
              "      <td>297.25</td>\n",
              "      <td>6.00</td>\n",
              "      <td>735.0</td>\n",
              "      <td>0.08</td>\n",
              "      <td>24.90</td>\n",
              "      <td>0.00</td>\n",
              "      <td>0.67</td>\n",
              "    </tr>\n",
              "  </tbody>\n",
              "</table>\n",
              "<p>5 rows × 23 columns</p>\n",
              "</div>\n",
              "    <div class=\"colab-df-buttons\">\n",
              "\n",
              "  <div class=\"colab-df-container\">\n",
              "    <button class=\"colab-df-convert\" onclick=\"convertToInteractive('df-940ff8d5-88a5-4ed5-89ea-2d5b614de093')\"\n",
              "            title=\"Convert this dataframe to an interactive table.\"\n",
              "            style=\"display:none;\">\n",
              "\n",
              "  <svg xmlns=\"http://www.w3.org/2000/svg\" height=\"24px\" viewBox=\"0 -960 960 960\">\n",
              "    <path d=\"M120-120v-720h720v720H120Zm60-500h600v-160H180v160Zm220 220h160v-160H400v160Zm0 220h160v-160H400v160ZM180-400h160v-160H180v160Zm440 0h160v-160H620v160ZM180-180h160v-160H180v160Zm440 0h160v-160H620v160Z\"/>\n",
              "  </svg>\n",
              "    </button>\n",
              "\n",
              "  <style>\n",
              "    .colab-df-container {\n",
              "      display:flex;\n",
              "      gap: 12px;\n",
              "    }\n",
              "\n",
              "    .colab-df-convert {\n",
              "      background-color: #E8F0FE;\n",
              "      border: none;\n",
              "      border-radius: 50%;\n",
              "      cursor: pointer;\n",
              "      display: none;\n",
              "      fill: #1967D2;\n",
              "      height: 32px;\n",
              "      padding: 0 0 0 0;\n",
              "      width: 32px;\n",
              "    }\n",
              "\n",
              "    .colab-df-convert:hover {\n",
              "      background-color: #E2EBFA;\n",
              "      box-shadow: 0px 1px 2px rgba(60, 64, 67, 0.3), 0px 1px 3px 1px rgba(60, 64, 67, 0.15);\n",
              "      fill: #174EA6;\n",
              "    }\n",
              "\n",
              "    .colab-df-buttons div {\n",
              "      margin-bottom: 4px;\n",
              "    }\n",
              "\n",
              "    [theme=dark] .colab-df-convert {\n",
              "      background-color: #3B4455;\n",
              "      fill: #D2E3FC;\n",
              "    }\n",
              "\n",
              "    [theme=dark] .colab-df-convert:hover {\n",
              "      background-color: #434B5C;\n",
              "      box-shadow: 0px 1px 3px 1px rgba(0, 0, 0, 0.15);\n",
              "      filter: drop-shadow(0px 1px 2px rgba(0, 0, 0, 0.3));\n",
              "      fill: #FFFFFF;\n",
              "    }\n",
              "  </style>\n",
              "\n",
              "    <script>\n",
              "      const buttonEl =\n",
              "        document.querySelector('#df-940ff8d5-88a5-4ed5-89ea-2d5b614de093 button.colab-df-convert');\n",
              "      buttonEl.style.display =\n",
              "        google.colab.kernel.accessAllowed ? 'block' : 'none';\n",
              "\n",
              "      async function convertToInteractive(key) {\n",
              "        const element = document.querySelector('#df-940ff8d5-88a5-4ed5-89ea-2d5b614de093');\n",
              "        const dataTable =\n",
              "          await google.colab.kernel.invokeFunction('convertToInteractive',\n",
              "                                                    [key], {});\n",
              "        if (!dataTable) return;\n",
              "\n",
              "        const docLinkHtml = 'Like what you see? Visit the ' +\n",
              "          '<a target=\"_blank\" href=https://colab.research.google.com/notebooks/data_table.ipynb>data table notebook</a>'\n",
              "          + ' to learn more about interactive tables.';\n",
              "        element.innerHTML = '';\n",
              "        dataTable['output_type'] = 'display_data';\n",
              "        await google.colab.output.renderOutput(dataTable, element);\n",
              "        const docLink = document.createElement('div');\n",
              "        docLink.innerHTML = docLinkHtml;\n",
              "        element.appendChild(docLink);\n",
              "      }\n",
              "    </script>\n",
              "  </div>\n",
              "\n",
              "\n",
              "    <div id=\"df-b9058a23-4d3a-494f-b72d-323454c34f2e\">\n",
              "      <button class=\"colab-df-quickchart\" onclick=\"quickchart('df-b9058a23-4d3a-494f-b72d-323454c34f2e')\"\n",
              "                title=\"Suggest charts\"\n",
              "                style=\"display:none;\">\n",
              "\n",
              "<svg xmlns=\"http://www.w3.org/2000/svg\" height=\"24px\"viewBox=\"0 0 24 24\"\n",
              "     width=\"24px\">\n",
              "    <g>\n",
              "        <path d=\"M19 3H5c-1.1 0-2 .9-2 2v14c0 1.1.9 2 2 2h14c1.1 0 2-.9 2-2V5c0-1.1-.9-2-2-2zM9 17H7v-7h2v7zm4 0h-2V7h2v10zm4 0h-2v-4h2v4z\"/>\n",
              "    </g>\n",
              "</svg>\n",
              "      </button>\n",
              "\n",
              "<style>\n",
              "  .colab-df-quickchart {\n",
              "      --bg-color: #E8F0FE;\n",
              "      --fill-color: #1967D2;\n",
              "      --hover-bg-color: #E2EBFA;\n",
              "      --hover-fill-color: #174EA6;\n",
              "      --disabled-fill-color: #AAA;\n",
              "      --disabled-bg-color: #DDD;\n",
              "  }\n",
              "\n",
              "  [theme=dark] .colab-df-quickchart {\n",
              "      --bg-color: #3B4455;\n",
              "      --fill-color: #D2E3FC;\n",
              "      --hover-bg-color: #434B5C;\n",
              "      --hover-fill-color: #FFFFFF;\n",
              "      --disabled-bg-color: #3B4455;\n",
              "      --disabled-fill-color: #666;\n",
              "  }\n",
              "\n",
              "  .colab-df-quickchart {\n",
              "    background-color: var(--bg-color);\n",
              "    border: none;\n",
              "    border-radius: 50%;\n",
              "    cursor: pointer;\n",
              "    display: none;\n",
              "    fill: var(--fill-color);\n",
              "    height: 32px;\n",
              "    padding: 0;\n",
              "    width: 32px;\n",
              "  }\n",
              "\n",
              "  .colab-df-quickchart:hover {\n",
              "    background-color: var(--hover-bg-color);\n",
              "    box-shadow: 0 1px 2px rgba(60, 64, 67, 0.3), 0 1px 3px 1px rgba(60, 64, 67, 0.15);\n",
              "    fill: var(--button-hover-fill-color);\n",
              "  }\n",
              "\n",
              "  .colab-df-quickchart-complete:disabled,\n",
              "  .colab-df-quickchart-complete:disabled:hover {\n",
              "    background-color: var(--disabled-bg-color);\n",
              "    fill: var(--disabled-fill-color);\n",
              "    box-shadow: none;\n",
              "  }\n",
              "\n",
              "  .colab-df-spinner {\n",
              "    border: 2px solid var(--fill-color);\n",
              "    border-color: transparent;\n",
              "    border-bottom-color: var(--fill-color);\n",
              "    animation:\n",
              "      spin 1s steps(1) infinite;\n",
              "  }\n",
              "\n",
              "  @keyframes spin {\n",
              "    0% {\n",
              "      border-color: transparent;\n",
              "      border-bottom-color: var(--fill-color);\n",
              "      border-left-color: var(--fill-color);\n",
              "    }\n",
              "    20% {\n",
              "      border-color: transparent;\n",
              "      border-left-color: var(--fill-color);\n",
              "      border-top-color: var(--fill-color);\n",
              "    }\n",
              "    30% {\n",
              "      border-color: transparent;\n",
              "      border-left-color: var(--fill-color);\n",
              "      border-top-color: var(--fill-color);\n",
              "      border-right-color: var(--fill-color);\n",
              "    }\n",
              "    40% {\n",
              "      border-color: transparent;\n",
              "      border-right-color: var(--fill-color);\n",
              "      border-top-color: var(--fill-color);\n",
              "    }\n",
              "    60% {\n",
              "      border-color: transparent;\n",
              "      border-right-color: var(--fill-color);\n",
              "    }\n",
              "    80% {\n",
              "      border-color: transparent;\n",
              "      border-right-color: var(--fill-color);\n",
              "      border-bottom-color: var(--fill-color);\n",
              "    }\n",
              "    90% {\n",
              "      border-color: transparent;\n",
              "      border-bottom-color: var(--fill-color);\n",
              "    }\n",
              "  }\n",
              "</style>\n",
              "\n",
              "      <script>\n",
              "        async function quickchart(key) {\n",
              "          const quickchartButtonEl =\n",
              "            document.querySelector('#' + key + ' button');\n",
              "          quickchartButtonEl.disabled = true;  // To prevent multiple clicks.\n",
              "          quickchartButtonEl.classList.add('colab-df-spinner');\n",
              "          try {\n",
              "            const charts = await google.colab.kernel.invokeFunction(\n",
              "                'suggestCharts', [key], {});\n",
              "          } catch (error) {\n",
              "            console.error('Error during call to suggestCharts:', error);\n",
              "          }\n",
              "          quickchartButtonEl.classList.remove('colab-df-spinner');\n",
              "          quickchartButtonEl.classList.add('colab-df-quickchart-complete');\n",
              "        }\n",
              "        (() => {\n",
              "          let quickchartButtonEl =\n",
              "            document.querySelector('#df-b9058a23-4d3a-494f-b72d-323454c34f2e button');\n",
              "          quickchartButtonEl.style.display =\n",
              "            google.colab.kernel.accessAllowed ? 'block' : 'none';\n",
              "        })();\n",
              "      </script>\n",
              "    </div>\n",
              "\n",
              "    </div>\n",
              "  </div>\n"
            ],
            "application/vnd.google.colaboratory.intrinsic+json": {
              "type": "dataframe",
              "variable_name": "df"
            }
          },
          "metadata": {},
          "execution_count": 6
        }
      ]
    },
    {
      "cell_type": "code",
      "source": [
        "df.info()"
      ],
      "metadata": {
        "colab": {
          "base_uri": "https://localhost:8080/"
        },
        "id": "jYAdUznQcCfH",
        "outputId": "0a2c7800-a76a-4188-c833-fd1fe8067f97"
      },
      "execution_count": null,
      "outputs": [
        {
          "output_type": "stream",
          "name": "stdout",
          "text": [
            "<class 'pandas.core.frame.DataFrame'>\n",
            "RangeIndex: 50400 entries, 0 to 50399\n",
            "Data columns (total 23 columns):\n",
            " #   Column           Non-Null Count  Dtype  \n",
            "---  ------           --------------  -----  \n",
            " 0   From Date        50400 non-null  object \n",
            " 1   To Date          50400 non-null  object \n",
            " 2   PM2.5 (ug/m3)    44691 non-null  float64\n",
            " 3   PM10 (ug/m3)     45018 non-null  float64\n",
            " 4   NO (ug/m3)       46252 non-null  float64\n",
            " 5   NO2 (ug/m3)      45705 non-null  float64\n",
            " 6   NOx (ppb)        47040 non-null  float64\n",
            " 7   NH3 (ug/m3)      45756 non-null  float64\n",
            " 8   SO2 (ug/m3)      43604 non-null  float64\n",
            " 9   CO (mg/m3)       46993 non-null  float64\n",
            " 10  Ozone (ug/m3)    45309 non-null  float64\n",
            " 11  Benzene (ug/m3)  46678 non-null  float64\n",
            " 12  Toluene (ug/m3)  46678 non-null  float64\n",
            " 13  Temp (degree C)  46335 non-null  float64\n",
            " 14  RH (%)           46520 non-null  float64\n",
            " 15  WS (m/s)         46522 non-null  float64\n",
            " 16  WD (degree)      44710 non-null  float64\n",
            " 17  SR (W/mt2)       47045 non-null  float64\n",
            " 18  BP (mmHg)        43680 non-null  float64\n",
            " 19  VWS (m/s)        47043 non-null  float64\n",
            " 20  AT (degree C)    46370 non-null  float64\n",
            " 21  RF (mm)          47148 non-null  float64\n",
            " 22  Xylene (ug/m3)   46658 non-null  float64\n",
            "dtypes: float64(21), object(2)\n",
            "memory usage: 8.8+ MB\n"
          ]
        }
      ]
    },
    {
      "cell_type": "code",
      "source": [
        "df['From Date'] = pd.to_datetime(df['From Date'])\n",
        "df.set_index('From Date', inplace=True)"
      ],
      "metadata": {
        "id": "5ypjZCKHcGDz"
      },
      "execution_count": null,
      "outputs": []
    },
    {
      "cell_type": "code",
      "source": [
        "df.drop('To Date', axis=1, inplace=True)"
      ],
      "metadata": {
        "id": "kzigs9yFe19k"
      },
      "execution_count": null,
      "outputs": []
    },
    {
      "cell_type": "markdown",
      "source": [
        "mengubah from date menjadi date time dan menjadi index, lalu kolom to date di hapus. ini akan menyisakan 20 kolum tersisa. Data sekarang mempunyai index berbasi waktu untuk analisis time series.\n"
      ],
      "metadata": {
        "id": "UNJgZMF6iHqE"
      }
    },
    {
      "cell_type": "code",
      "source": [
        "cleaned_columns = []\n",
        "for col in df.columns:\n",
        "\n",
        "    cleaned_col = col.lower().replace('(','').replace(')','').replace('.','').replace('/','').replace(' ','_')\n",
        "    cleaned_columns.append(cleaned_col)\n",
        "df.columns = cleaned_columns"
      ],
      "metadata": {
        "id": "V4vGV97Je5yT"
      },
      "execution_count": null,
      "outputs": []
    },
    {
      "cell_type": "markdown",
      "source": [
        "Mengubah ke huruf kecil, mengganti spasi dan karakter khusus dengan '_' untuk memudahkan proses pemanggilan tanpa resiko adanya error"
      ],
      "metadata": {
        "id": "v49kZIu2f1ND"
      }
    },
    {
      "cell_type": "code",
      "source": [
        "print(\"Persentase data hilang sebelum imputasi:\")\n",
        "print((df.isnull().sum() / len(df) * 100).sort_values(ascending=False))\n",
        "\n",
        "df.interpolate(method='linear', inplace=True)\n",
        "\n",
        "print(\"\\nJumlah data hilang setelah interpolasi:\")\n",
        "print(df.isnull().sum().sum())\n",
        "\n",
        "if df.isnull().sum().sum() > 0:\n",
        "    df.fillna(method='bfill', inplace=True)\n",
        "    df.fillna(method='ffill', inplace=True)"
      ],
      "metadata": {
        "colab": {
          "base_uri": "https://localhost:8080/"
        },
        "id": "poLA78Uxf3bc",
        "outputId": "bad890c4-3193-4818-d32d-603d6b4f6be0"
      },
      "execution_count": null,
      "outputs": [
        {
          "output_type": "stream",
          "name": "stdout",
          "text": [
            "Persentase data hilang sebelum imputasi:\n",
            "so2_ugm3         13.484127\n",
            "bp_mmhg          13.333333\n",
            "pm25_ugm3        11.327381\n",
            "wd_degree        11.289683\n",
            "pm10_ugm3        10.678571\n",
            "ozone_ugm3       10.101190\n",
            "no2_ugm3          9.315476\n",
            "nh3_ugm3          9.214286\n",
            "no_ugm3           8.230159\n",
            "temp_degree_c     8.065476\n",
            "at_degree_c       7.996032\n",
            "rh_%              7.698413\n",
            "ws_ms             7.694444\n",
            "xylene_ugm3       7.424603\n",
            "toluene_ugm3      7.384921\n",
            "benzene_ugm3      7.384921\n",
            "co_mgm3           6.759921\n",
            "nox_ppb           6.666667\n",
            "vws_ms            6.660714\n",
            "sr_wmt2           6.656746\n",
            "rf_mm             6.452381\n",
            "dtype: float64\n",
            "\n",
            "Jumlah data hilang setelah interpolasi:\n",
            "4\n"
          ]
        },
        {
          "output_type": "stream",
          "name": "stderr",
          "text": [
            "/tmp/ipython-input-11-1251195867.py:10: FutureWarning: DataFrame.fillna with 'method' is deprecated and will raise in a future version. Use obj.ffill() or obj.bfill() instead.\n",
            "  df.fillna(method='bfill', inplace=True)\n",
            "/tmp/ipython-input-11-1251195867.py:11: FutureWarning: DataFrame.fillna with 'method' is deprecated and will raise in a future version. Use obj.ffill() or obj.bfill() instead.\n",
            "  df.fillna(method='ffill', inplace=True)\n"
          ]
        }
      ]
    },
    {
      "cell_type": "markdown",
      "source": [
        "Data tidak ada yang didrop karena krusial untuk timeseries sehingga saya melakukan imputasi. imputasi dilakukan tidak dengan mean median namun dengan function interpolate, metode yang cocok untuk data yang perubahannya gradual dari waktu ke waktu. Metode ini menghitung satu nilai statistik (rata-rata atau nilai tengah) dari seluruh kolom yang memiliki data. Kemudian, setiap sel kosong (NaN) di kolom tersebut diisi dengan nilai tunggal ini. nilai valid terakhir sebelum hilang dan pertama setelah hilang dijadikan acuan untuk nanti digambar garis lurus dan diisi nilai sepanjang garis itu."
      ],
      "metadata": {
        "id": "Nceklzzpil8L"
      }
    },
    {
      "cell_type": "code",
      "source": [
        "df.info()"
      ],
      "metadata": {
        "colab": {
          "base_uri": "https://localhost:8080/"
        },
        "id": "w3Kr-Sz5gLc5",
        "outputId": "0b4b702d-f7e7-440e-a222-ce6730fdf4ae"
      },
      "execution_count": null,
      "outputs": [
        {
          "output_type": "stream",
          "name": "stdout",
          "text": [
            "<class 'pandas.core.frame.DataFrame'>\n",
            "DatetimeIndex: 50400 entries, 2017-07-01 00:00:00 to 2023-03-31 23:00:00\n",
            "Data columns (total 21 columns):\n",
            " #   Column         Non-Null Count  Dtype  \n",
            "---  ------         --------------  -----  \n",
            " 0   pm25_ugm3      50400 non-null  float64\n",
            " 1   pm10_ugm3      50400 non-null  float64\n",
            " 2   no_ugm3        50400 non-null  float64\n",
            " 3   no2_ugm3       50400 non-null  float64\n",
            " 4   nox_ppb        50400 non-null  float64\n",
            " 5   nh3_ugm3       50400 non-null  float64\n",
            " 6   so2_ugm3       50400 non-null  float64\n",
            " 7   co_mgm3        50400 non-null  float64\n",
            " 8   ozone_ugm3     50400 non-null  float64\n",
            " 9   benzene_ugm3   50400 non-null  float64\n",
            " 10  toluene_ugm3   50400 non-null  float64\n",
            " 11  temp_degree_c  50400 non-null  float64\n",
            " 12  rh_%           50400 non-null  float64\n",
            " 13  ws_ms          50400 non-null  float64\n",
            " 14  wd_degree      50400 non-null  float64\n",
            " 15  sr_wmt2        50400 non-null  float64\n",
            " 16  bp_mmhg        50400 non-null  float64\n",
            " 17  vws_ms         50400 non-null  float64\n",
            " 18  at_degree_c    50400 non-null  float64\n",
            " 19  rf_mm          50400 non-null  float64\n",
            " 20  xylene_ugm3    50400 non-null  float64\n",
            "dtypes: float64(21)\n",
            "memory usage: 8.5 MB\n"
          ]
        }
      ]
    },
    {
      "cell_type": "code",
      "source": [
        "plt.figure(figsize=(16, 6))\n",
        "df['at_degree_c'].plot()\n",
        "plt.title('Plot Suhu Udara (AT) dari Waktu ke Waktu')\n",
        "plt.xlabel('Tanggal')\n",
        "plt.ylabel('Suhu (Derajat C)')\n",
        "plt.show()\n",
        "\n",
        "plt.figure(figsize=(18, 12))\n",
        "correlation_matrix = df.corr()\n",
        "sns.heatmap(correlation_matrix, cmap='coolwarm')\n",
        "plt.title('Heatmap Korelasi Antar Fitur')\n",
        "plt.show()"
      ],
      "metadata": {
        "colab": {
          "base_uri": "https://localhost:8080/",
          "height": 1000
        },
        "id": "Ae1OJtcZgMD0",
        "outputId": "58a346eb-ef1c-4d6b-9887-8fb788069c81"
      },
      "execution_count": null,
      "outputs": [
        {
          "output_type": "display_data",
          "data": {
            "text/plain": [
              "<Figure size 1600x600 with 1 Axes>"
            ],
            "image/png": "[encoded data removed]"
          },
          "metadata": {}
        },
        {
          "output_type": "display_data",
          "data": {
            "text/plain": [
              "<Figure size 1800x1200 with 2 Axes>"
            ],
            "image/png": "[encoded data removed]"
          },
          "metadata": {}
        }
      ]
    },
    {
      "cell_type": "markdown",
      "source": [
        "plot pertama menjukan pergerakan suhu yang cukup jelas dari segi polanya, dimana di sekitar awal tahun dan akhir tahun secara konsisten mencapai titik terendahnya dan mencapai titik tertingginya di pertengahan tahun. tidak ada trend jangka panjang seperti kenaikan atau penurunan setiap tahunnya.\n",
        "\n",
        "untuk plot heatmap pertama untuk korelasinya dengan target kita at, korelasi positif bisa kita lihat dengan sr(solar radiation) yang mana masuk akal karena semakin tinggi suhunya semakin tinggi juga radiasi solar. ada juga korelasi negatif yang cukup kuat dengan rh (kelembapan relatif) yang cenderung di suhu yang lebih rendah."
      ],
      "metadata": {
        "id": "NmBFbfuk7zMI"
      }
    },
    {
      "cell_type": "code",
      "source": [
        "n = len(df)\n",
        "train_df = df[0:int(n*0.8)]\n",
        "val_df = df[int(n*0.8):int(n*0.9)]\n",
        "test_df = df[int(n*0.9):]\n",
        "\n",
        "print(\"Ukuran set Training:\", train_df.shape)\n",
        "print(\"Ukuran set Validasi:\", val_df.shape)\n",
        "print(\"Ukuran set Testing:\", test_df.shape)"
      ],
      "metadata": {
        "colab": {
          "base_uri": "https://localhost:8080/"
        },
        "id": "gTmZn1NAg8dp",
        "outputId": "6a63b537-2396-485d-db27-56dbe3551c25"
      },
      "execution_count": null,
      "outputs": [
        {
          "output_type": "stream",
          "name": "stdout",
          "text": [
            "Ukuran set Training: (40320, 21)\n",
            "Ukuran set Validasi: (5040, 21)\n",
            "Ukuran set Testing: (5040, 21)\n"
          ]
        }
      ]
    },
    {
      "cell_type": "markdown",
      "source": [
        "bagi data training, testing, dan validation menjadi ratio 80 :10:10. sesuai ketentuan soal."
      ],
      "metadata": {
        "id": "hfg9sTRDSah1"
      }
    },
    {
      "cell_type": "code",
      "source": [
        "scaler = MinMaxScaler()\n",
        "\n",
        "train_scaled = scaler.fit_transform(train_df)\n",
        "\n",
        "val_scaled = scaler.transform(val_df)\n",
        "test_scaled = scaler.transform(test_df)\n",
        "\n",
        "train_scaled_df = pd.DataFrame(train_scaled, index=train_df.index, columns=df.columns)\n",
        "val_scaled_df = pd.DataFrame(val_scaled, index=val_df.index, columns=df.columns)\n",
        "test_scaled_df = pd.DataFrame(test_scaled, index=test_df.index, columns=df.columns)"
      ],
      "metadata": {
        "id": "9JN-DIWGg-bH"
      },
      "execution_count": null,
      "outputs": []
    },
    {
      "cell_type": "markdown",
      "source": [
        "scaling dengan minmaxscaler mengubah semua nilai menjadi dalma rentang 0 sampai 1."
      ],
      "metadata": {
        "id": "GiUdgv4rSmDq"
      }
    },
    {
      "cell_type": "code",
      "source": [
        "def create_sequences(data_array, feature_columns, history_size, target_col_name, target_horizon):\n",
        "    X, y = [], []\n",
        "    target_col_index = list(feature_columns).index(target_col_name)\n",
        "\n",
        "    for i in range(len(data_array) - history_size - target_horizon + 1):\n",
        "        input_window = data_array[i:(i + history_size), :]\n",
        "        X.append(input_window)\n",
        "\n",
        "        target_value = data_array[i + history_size + target_horizon - 1, target_col_index]\n",
        "        y.append(target_value)\n",
        "\n",
        "    return np.array(X), np.array(y)\n",
        "\n",
        "HISTORY_SIZE = 5\n",
        "TARGET_HORIZON = 1\n",
        "TARGET_COLUMN_NAME = 'at_degree_c'\n",
        "\n",
        "X_train, y_train = create_sequences(train_scaled_df.values, train_scaled_df.columns, HISTORY_SIZE, TARGET_COLUMN_NAME, TARGET_HORIZON)\n",
        "X_val, y_val = create_sequences(val_scaled_df.values, val_scaled_df.columns, HISTORY_SIZE, TARGET_COLUMN_NAME, TARGET_HORIZON)\n",
        "X_test, y_test = create_sequences(test_scaled_df.values, test_scaled_df.columns, HISTORY_SIZE, TARGET_COLUMN_NAME, TARGET_HORIZON)\n",
        "\n",
        "print(\"X_train shape:\", X_train.shape)\n",
        "print(\"y_train shape:\", y_train.shape)\n",
        "print(\"X_val shape:\", X_val.shape)\n",
        "print(\"y_val shape:\", y_val.shape)\n",
        "print(\"X_test shape:\", X_test.shape)\n",
        "print(\"y_test shape:\", y_test.shape)"
      ],
      "metadata": {
        "colab": {
          "base_uri": "https://localhost:8080/"
        },
        "id": "nTZB1wfXhslj",
        "outputId": "34511291-f221-4df7-83b0-b4e11174fbc3"
      },
      "execution_count": null,
      "outputs": [
        {
          "output_type": "stream",
          "name": "stdout",
          "text": [
            "X_train shape: (40315, 5, 21)\n",
            "y_train shape: (40315,)\n",
            "X_val shape: (5035, 5, 21)\n",
            "y_val shape: (5035,)\n",
            "X_test shape: (5035, 5, 21)\n",
            "y_test shape: (5035,)\n"
          ]
        }
      ]
    },
    {
      "cell_type": "markdown",
      "source": [
        "membuat function untuk mengubah data time series menjadi format supervised learning, dimana input x dari 5 jam terakhir dan output y dari AT dalam 1 jam ke depan."
      ],
      "metadata": {
        "id": "IyBsbyKgSyrv"
      }
    },
    {
      "cell_type": "markdown",
      "source": [
        "**MODELLING**"
      ],
      "metadata": {
        "id": "ynFUbhiRVaD8"
      }
    },
    {
      "cell_type": "code",
      "source": [
        "input_shape = (X_train.shape[1], X_train.shape[2])\n",
        "\n",
        "input_layer_baseline = Input(shape=input_shape)\n",
        "lstm_layer_baseline = LSTM(units=10, name='LSTM_Baseline')(input_layer_baseline)\n",
        "output_layer_baseline = Dense(units=1, activation='linear', name='Output_Regressor')(lstm_layer_baseline)\n",
        "\n",
        "model_baseline = Model(inputs=input_layer_baseline, outputs=output_layer_baseline)\n",
        "model_baseline.compile(optimizer=Adam(learning_rate=0.001),\n",
        "                       loss='mean_squared_error',\n",
        "                       metrics=['mean_absolute_error'])\n",
        "model_baseline.summary()\n",
        "\n",
        "early_stopping = EarlyStopping(monitor='val_loss', patience=5, restore_best_weights=True)\n",
        "\n",
        "history_baseline = model_baseline.fit(\n",
        "    X_train, y_train,\n",
        "    epochs=50,\n",
        "    batch_size=32,\n",
        "    validation_data=(X_val, y_val),\n",
        "    callbacks=[early_stopping],\n",
        "    verbose=1\n",
        ")"
      ],
      "metadata": {
        "colab": {
          "base_uri": "https://localhost:8080/",
          "height": 939
        },
        "id": "Jgf783Lvh2hT",
        "outputId": "37e6a4b0-1e6c-4489-8507-5c31f71158e1"
      },
      "execution_count": null,
      "outputs": [
        {
          "output_type": "display_data",
          "data": {
            "text/plain": [
              "\u001b[1mModel: \"functional\"\u001b[0m\n"
            ],
            "text/html": [
              "<pre style=\"white-space:pre;overflow-x:auto;line-height:normal;font-family:Menlo,'DejaVu Sans Mono',consolas,'Courier New',monospace\"><span style=\"font-weight: bold\">Model: \"functional\"</span>\n",
              "</pre>\n"
            ]
          },
          "metadata": {}
        },
        {
          "output_type": "display_data",
          "data": {
            "text/plain": [
              "┏━━━━━━━━━━━━━━━━━━━━━━━━━━━━━━━━━┳━━━━━━━━━━━━━━━━━━━━━━━━┳━━━━━━━━━━━━━━━┓\n",
              "┃\u001b[1m \u001b[0m\u001b[1mLayer (type)                   \u001b[0m\u001b[1m \u001b[0m┃\u001b[1m \u001b[0m\u001b[1mOutput Shape          \u001b[0m\u001b[1m \u001b[0m┃\u001b[1m \u001b[0m\u001b[1m      Param #\u001b[0m\u001b[1m \u001b[0m┃\n",
              "┡━━━━━━━━━━━━━━━━━━━━━━━━━━━━━━━━━╇━━━━━━━━━━━━━━━━━━━━━━━━╇━━━━━━━━━━━━━━━┩\n",
              "│ input_layer (\u001b[38;5;33mInputLayer\u001b[0m)        │ (\u001b[38;5;45mNone\u001b[0m, \u001b[38;5;34m5\u001b[0m, \u001b[38;5;34m21\u001b[0m)          │             \u001b[38;5;34m0\u001b[0m │\n",
              "├─────────────────────────────────┼────────────────────────┼───────────────┤\n",
              "│ LSTM_Baseline (\u001b[38;5;33mLSTM\u001b[0m)            │ (\u001b[38;5;45mNone\u001b[0m, \u001b[38;5;34m10\u001b[0m)             │         \u001b[38;5;34m1,280\u001b[0m │\n",
              "├─────────────────────────────────┼────────────────────────┼───────────────┤\n",
              "│ Output_Regressor (\u001b[38;5;33mDense\u001b[0m)        │ (\u001b[38;5;45mNone\u001b[0m, \u001b[38;5;34m1\u001b[0m)              │            \u001b[38;5;34m11\u001b[0m │\n",
              "└─────────────────────────────────┴────────────────────────┴───────────────┘\n"
            ],
            "text/html": [
              "<pre style=\"white-space:pre;overflow-x:auto;line-height:normal;font-family:Menlo,'DejaVu Sans Mono',consolas,'Courier New',monospace\">┏━━━━━━━━━━━━━━━━━━━━━━━━━━━━━━━━━┳━━━━━━━━━━━━━━━━━━━━━━━━┳━━━━━━━━━━━━━━━┓\n",
              "┃<span style=\"font-weight: bold\"> Layer (type)                    </span>┃<span style=\"font-weight: bold\"> Output Shape           </span>┃<span style=\"font-weight: bold\">       Param # </span>┃\n",
              "┡━━━━━━━━━━━━━━━━━━━━━━━━━━━━━━━━━╇━━━━━━━━━━━━━━━━━━━━━━━━╇━━━━━━━━━━━━━━━┩\n",
              "│ input_layer (<span style=\"color: #0087ff; text-decoration-color: #0087ff\">InputLayer</span>)        │ (<span style=\"color: #00d7ff; text-decoration-color: #00d7ff\">None</span>, <span style=\"color: #00af00; text-decoration-color: #00af00\">5</span>, <span style=\"color: #00af00; text-decoration-color: #00af00\">21</span>)          │             <span style=\"color: #00af00; text-decoration-color: #00af00\">0</span> │\n",
              "├─────────────────────────────────┼────────────────────────┼───────────────┤\n",
              "│ LSTM_Baseline (<span style=\"color: #0087ff; text-decoration-color: #0087ff\">LSTM</span>)            │ (<span style=\"color: #00d7ff; text-decoration-color: #00d7ff\">None</span>, <span style=\"color: #00af00; text-decoration-color: #00af00\">10</span>)             │         <span style=\"color: #00af00; text-decoration-color: #00af00\">1,280</span> │\n",
              "├─────────────────────────────────┼────────────────────────┼───────────────┤\n",
              "│ Output_Regressor (<span style=\"color: #0087ff; text-decoration-color: #0087ff\">Dense</span>)        │ (<span style=\"color: #00d7ff; text-decoration-color: #00d7ff\">None</span>, <span style=\"color: #00af00; text-decoration-color: #00af00\">1</span>)              │            <span style=\"color: #00af00; text-decoration-color: #00af00\">11</span> │\n",
              "└─────────────────────────────────┴────────────────────────┴───────────────┘\n",
              "</pre>\n"
            ]
          },
          "metadata": {}
        },
        {
          "output_type": "display_data",
          "data": {
            "text/plain": [
              "\u001b[1m Total params: \u001b[0m\u001b[38;5;34m1,291\u001b[0m (5.04 KB)\n"
            ],
            "text/html": [
              "<pre style=\"white-space:pre;overflow-x:auto;line-height:normal;font-family:Menlo,'DejaVu Sans Mono',consolas,'Courier New',monospace\"><span style=\"font-weight: bold\"> Total params: </span><span style=\"color: #00af00; text-decoration-color: #00af00\">1,291</span> (5.04 KB)\n",
              "</pre>\n"
            ]
          },
          "metadata": {}
        },
        {
          "output_type": "display_data",
          "data": {
            "text/plain": [
              "\u001b[1m Trainable params: \u001b[0m\u001b[38;5;34m1,291\u001b[0m (5.04 KB)\n"
            ],
            "text/html": [
              "<pre style=\"white-space:pre;overflow-x:auto;line-height:normal;font-family:Menlo,'DejaVu Sans Mono',consolas,'Courier New',monospace\"><span style=\"font-weight: bold\"> Trainable params: </span><span style=\"color: #00af00; text-decoration-color: #00af00\">1,291</span> (5.04 KB)\n",
              "</pre>\n"
            ]
          },
          "metadata": {}
        },
        {
          "output_type": "display_data",
          "data": {
            "text/plain": [
              "\u001b[1m Non-trainable params: \u001b[0m\u001b[38;5;34m0\u001b[0m (0.00 B)\n"
            ],
            "text/html": [
              "<pre style=\"white-space:pre;overflow-x:auto;line-height:normal;font-family:Menlo,'DejaVu Sans Mono',consolas,'Courier New',monospace\"><span style=\"font-weight: bold\"> Non-trainable params: </span><span style=\"color: #00af00; text-decoration-color: #00af00\">0</span> (0.00 B)\n",
              "</pre>\n"
            ]
          },
          "metadata": {}
        },
        {
          "output_type": "stream",
          "name": "stdout",
          "text": [
            "Epoch 1/50\n",
            "\u001b[1m1260/1260\u001b[0m \u001b[32m━━━━━━━━━━━━━━━━━━━━\u001b[0m\u001b[37m\u001b[0m \u001b[1m11s\u001b[0m 6ms/step - loss: 0.0093 - mean_absolute_error: 0.0606 - val_loss: 9.9407e-04 - val_mean_absolute_error: 0.0223\n",
            "Epoch 2/50\n",
            "\u001b[1m1260/1260\u001b[0m \u001b[32m━━━━━━━━━━━━━━━━━━━━\u001b[0m\u001b[37m\u001b[0m \u001b[1m6s\u001b[0m 5ms/step - loss: 8.4758e-04 - mean_absolute_error: 0.0204 - val_loss: 7.4414e-04 - val_mean_absolute_error: 0.0195\n",
            "Epoch 3/50\n",
            "\u001b[1m1260/1260\u001b[0m \u001b[32m━━━━━━━━━━━━━━━━━━━━\u001b[0m\u001b[37m\u001b[0m \u001b[1m11s\u001b[0m 5ms/step - loss: 6.2770e-04 - mean_absolute_error: 0.0170 - val_loss: 7.6414e-04 - val_mean_absolute_error: 0.0196\n",
            "Epoch 4/50\n",
            "\u001b[1m1260/1260\u001b[0m \u001b[32m━━━━━━━━━━━━━━━━━━━━\u001b[0m\u001b[37m\u001b[0m \u001b[1m11s\u001b[0m 5ms/step - loss: 5.0901e-04 - mean_absolute_error: 0.0152 - val_loss: 5.2638e-04 - val_mean_absolute_error: 0.0156\n",
            "Epoch 5/50\n",
            "\u001b[1m1260/1260\u001b[0m \u001b[32m━━━━━━━━━━━━━━━━━━━━\u001b[0m\u001b[37m\u001b[0m \u001b[1m6s\u001b[0m 4ms/step - loss: 4.7523e-04 - mean_absolute_error: 0.0142 - val_loss: 5.5000e-04 - val_mean_absolute_error: 0.0170\n",
            "Epoch 6/50\n",
            "\u001b[1m1260/1260\u001b[0m \u001b[32m━━━━━━━━━━━━━━━━━━━━\u001b[0m\u001b[37m\u001b[0m \u001b[1m6s\u001b[0m 5ms/step - loss: 4.3051e-04 - mean_absolute_error: 0.0136 - val_loss: 4.9426e-04 - val_mean_absolute_error: 0.0150\n",
            "Epoch 7/50\n",
            "\u001b[1m1260/1260\u001b[0m \u001b[32m━━━━━━━━━━━━━━━━━━━━\u001b[0m\u001b[37m\u001b[0m \u001b[1m6s\u001b[0m 5ms/step - loss: 3.9734e-04 - mean_absolute_error: 0.0130 - val_loss: 4.5532e-04 - val_mean_absolute_error: 0.0144\n",
            "Epoch 8/50\n",
            "\u001b[1m1260/1260\u001b[0m \u001b[32m━━━━━━━━━━━━━━━━━━━━\u001b[0m\u001b[37m\u001b[0m \u001b[1m10s\u001b[0m 4ms/step - loss: 3.9107e-04 - mean_absolute_error: 0.0128 - val_loss: 4.4056e-04 - val_mean_absolute_error: 0.0143\n",
            "Epoch 9/50\n",
            "\u001b[1m1260/1260\u001b[0m \u001b[32m━━━━━━━━━━━━━━━━━━━━\u001b[0m\u001b[37m\u001b[0m \u001b[1m11s\u001b[0m 5ms/step - loss: 3.8251e-04 - mean_absolute_error: 0.0126 - val_loss: 4.3946e-04 - val_mean_absolute_error: 0.0141\n",
            "Epoch 10/50\n",
            "\u001b[1m1260/1260\u001b[0m \u001b[32m━━━━━━━━━━━━━━━━━━━━\u001b[0m\u001b[37m\u001b[0m \u001b[1m6s\u001b[0m 5ms/step - loss: 3.9034e-04 - mean_absolute_error: 0.0128 - val_loss: 4.4704e-04 - val_mean_absolute_error: 0.0143\n",
            "Epoch 11/50\n",
            "\u001b[1m1260/1260\u001b[0m \u001b[32m━━━━━━━━━━━━━━━━━━━━\u001b[0m\u001b[37m\u001b[0m \u001b[1m10s\u001b[0m 4ms/step - loss: 3.9127e-04 - mean_absolute_error: 0.0124 - val_loss: 4.2439e-04 - val_mean_absolute_error: 0.0140\n",
            "Epoch 12/50\n",
            "\u001b[1m1260/1260\u001b[0m \u001b[32m━━━━━━━━━━━━━━━━━━━━\u001b[0m\u001b[37m\u001b[0m \u001b[1m7s\u001b[0m 6ms/step - loss: 3.6017e-04 - mean_absolute_error: 0.0122 - val_loss: 4.3528e-04 - val_mean_absolute_error: 0.0140\n",
            "Epoch 13/50\n",
            "\u001b[1m1260/1260\u001b[0m \u001b[32m━━━━━━━━━━━━━━━━━━━━\u001b[0m\u001b[37m\u001b[0m \u001b[1m6s\u001b[0m 5ms/step - loss: 3.6665e-04 - mean_absolute_error: 0.0122 - val_loss: 4.5054e-04 - val_mean_absolute_error: 0.0144\n",
            "Epoch 14/50\n",
            "\u001b[1m1260/1260\u001b[0m \u001b[32m━━━━━━━━━━━━━━━━━━━━\u001b[0m\u001b[37m\u001b[0m \u001b[1m6s\u001b[0m 5ms/step - loss: 3.5669e-04 - mean_absolute_error: 0.0121 - val_loss: 4.3149e-04 - val_mean_absolute_error: 0.0139\n",
            "Epoch 15/50\n",
            "\u001b[1m1260/1260\u001b[0m \u001b[32m━━━━━━━━━━━━━━━━━━━━\u001b[0m\u001b[37m\u001b[0m \u001b[1m10s\u001b[0m 5ms/step - loss: 3.7358e-04 - mean_absolute_error: 0.0120 - val_loss: 4.3354e-04 - val_mean_absolute_error: 0.0147\n",
            "Epoch 16/50\n",
            "\u001b[1m1260/1260\u001b[0m \u001b[32m━━━━━━━━━━━━━━━━━━━━\u001b[0m\u001b[37m\u001b[0m \u001b[1m10s\u001b[0m 5ms/step - loss: 3.6578e-04 - mean_absolute_error: 0.0118 - val_loss: 4.1303e-04 - val_mean_absolute_error: 0.0138\n",
            "Epoch 17/50\n",
            "\u001b[1m1260/1260\u001b[0m \u001b[32m━━━━━━━━━━━━━━━━━━━━\u001b[0m\u001b[37m\u001b[0m \u001b[1m6s\u001b[0m 4ms/step - loss: 3.4535e-04 - mean_absolute_error: 0.0118 - val_loss: 4.0440e-04 - val_mean_absolute_error: 0.0133\n",
            "Epoch 18/50\n",
            "\u001b[1m1260/1260\u001b[0m \u001b[32m━━━━━━━━━━━━━━━━━━━━\u001b[0m\u001b[37m\u001b[0m \u001b[1m6s\u001b[0m 5ms/step - loss: 3.4217e-04 - mean_absolute_error: 0.0118 - val_loss: 4.0342e-04 - val_mean_absolute_error: 0.0133\n",
            "Epoch 19/50\n",
            "\u001b[1m1260/1260\u001b[0m \u001b[32m━━━━━━━━━━━━━━━━━━━━\u001b[0m\u001b[37m\u001b[0m \u001b[1m10s\u001b[0m 4ms/step - loss: 3.6698e-04 - mean_absolute_error: 0.0122 - val_loss: 3.9715e-04 - val_mean_absolute_error: 0.0134\n",
            "Epoch 20/50\n",
            "\u001b[1m 388/1260\u001b[0m \u001b[32m━━━━━━\u001b[0m\u001b[37m━━━━━━━━━━━━━━\u001b[0m \u001b[1m3s\u001b[0m 4ms/step - loss: 3.0311e-04 - mean_absolute_error: 0.0113"
          ]
        }
      ]
    },
    {
      "cell_type": "markdown",
      "source": [
        "ini adalah model baseline satu layer LSTM dengan 10 unit, menggunakan adam sebagai optimizer dan MSE untuk loss function, early stopping digunakan untuk berhenti jika validation atanya tidak membaik setelah 5 epoch, menghemat waktu dan mencegah overfit"
      ],
      "metadata": {
        "id": "YNaBWP_Gm-jf"
      }
    },
    {
      "cell_type": "code",
      "source": [],
      "metadata": {
        "id": "4OUkF398gLSX"
      },
      "execution_count": null,
      "outputs": []
    },
    {
      "cell_type": "code",
      "source": [
        "input_layer_manual = Input(shape=input_shape)\n",
        "lstm1_manual = LSTM(units=50, return_sequences=True, name='LSTM_1_Manual')(input_layer_manual)\n",
        "dropout_manual = Dropout(0.2, name='Dropout_Manual')(lstm1_manual)\n",
        "lstm2_manual = LSTM(units=25, name='LSTM_2_Manual')(dropout_manual)\n",
        "output_layer_manual = Dense(units=1, activation='linear', name='Output_Regressor')(lstm2_manual)\n",
        "\n",
        "model_manual = Model(inputs=input_layer_manual, outputs=output_layer_manual)\n",
        "\n",
        "model_manual.compile(optimizer=Adam(learning_rate=0.001),\n",
        "                     loss='mean_squared_error',\n",
        "                     metrics=['mean_absolute_error'])\n",
        "\n",
        "model_manual.summary()\n",
        "\n",
        "history_manual = model_manual.fit(\n",
        "    X_train, y_train,\n",
        "    epochs=50,\n",
        "    batch_size=32,\n",
        "    validation_data=(X_val, y_val),\n",
        "    callbacks=[early_stopping],\n",
        "    verbose=1\n",
        ")"
      ],
      "metadata": {
        "colab": {
          "base_uri": "https://localhost:8080/",
          "height": 830
        },
        "id": "ma5qMFLcYJlg",
        "outputId": "0f496f0f-68c6-429e-a187-9e865c399efa"
      },
      "execution_count": null,
      "outputs": [
        {
          "output_type": "display_data",
          "data": {
            "text/plain": [
              "\u001b[1mModel: \"functional_2\"\u001b[0m\n"
            ],
            "text/html": [
              "<pre style=\"white-space:pre;overflow-x:auto;line-height:normal;font-family:Menlo,'DejaVu Sans Mono',consolas,'Courier New',monospace\"><span style=\"font-weight: bold\">Model: \"functional_2\"</span>\n",
              "</pre>\n"
            ]
          },
          "metadata": {}
        },
        {
          "output_type": "display_data",
          "data": {
            "text/plain": [
              "┏━━━━━━━━━━━━━━━━━━━━━━━━━━━━━━━━━┳━━━━━━━━━━━━━━━━━━━━━━━━┳━━━━━━━━━━━━━━━┓\n",
              "┃\u001b[1m \u001b[0m\u001b[1mLayer (type)                   \u001b[0m\u001b[1m \u001b[0m┃\u001b[1m \u001b[0m\u001b[1mOutput Shape          \u001b[0m\u001b[1m \u001b[0m┃\u001b[1m \u001b[0m\u001b[1m      Param #\u001b[0m\u001b[1m \u001b[0m┃\n",
              "┡━━━━━━━━━━━━━━━━━━━━━━━━━━━━━━━━━╇━━━━━━━━━━━━━━━━━━━━━━━━╇━━━━━━━━━━━━━━━┩\n",
              "│ input_layer_2 (\u001b[38;5;33mInputLayer\u001b[0m)      │ (\u001b[38;5;45mNone\u001b[0m, \u001b[38;5;34m5\u001b[0m, \u001b[38;5;34m21\u001b[0m)          │             \u001b[38;5;34m0\u001b[0m │\n",
              "├─────────────────────────────────┼────────────────────────┼───────────────┤\n",
              "│ LSTM_1_Manual (\u001b[38;5;33mLSTM\u001b[0m)            │ (\u001b[38;5;45mNone\u001b[0m, \u001b[38;5;34m5\u001b[0m, \u001b[38;5;34m50\u001b[0m)          │        \u001b[38;5;34m14,400\u001b[0m │\n",
              "├─────────────────────────────────┼────────────────────────┼───────────────┤\n",
              "│ Dropout_Manual (\u001b[38;5;33mDropout\u001b[0m)        │ (\u001b[38;5;45mNone\u001b[0m, \u001b[38;5;34m5\u001b[0m, \u001b[38;5;34m50\u001b[0m)          │             \u001b[38;5;34m0\u001b[0m │\n",
              "├─────────────────────────────────┼────────────────────────┼───────────────┤\n",
              "│ LSTM_2_Manual (\u001b[38;5;33mLSTM\u001b[0m)            │ (\u001b[38;5;45mNone\u001b[0m, \u001b[38;5;34m25\u001b[0m)             │         \u001b[38;5;34m7,600\u001b[0m │\n",
              "├─────────────────────────────────┼────────────────────────┼───────────────┤\n",
              "│ Output_Regressor (\u001b[38;5;33mDense\u001b[0m)        │ (\u001b[38;5;45mNone\u001b[0m, \u001b[38;5;34m1\u001b[0m)              │            \u001b[38;5;34m26\u001b[0m │\n",
              "└─────────────────────────────────┴────────────────────────┴───────────────┘\n"
            ],
            "text/html": [
              "<pre style=\"white-space:pre;overflow-x:auto;line-height:normal;font-family:Menlo,'DejaVu Sans Mono',consolas,'Courier New',monospace\">┏━━━━━━━━━━━━━━━━━━━━━━━━━━━━━━━━━┳━━━━━━━━━━━━━━━━━━━━━━━━┳━━━━━━━━━━━━━━━┓\n",
              "┃<span style=\"font-weight: bold\"> Layer (type)                    </span>┃<span style=\"font-weight: bold\"> Output Shape           </span>┃<span style=\"font-weight: bold\">       Param # </span>┃\n",
              "┡━━━━━━━━━━━━━━━━━━━━━━━━━━━━━━━━━╇━━━━━━━━━━━━━━━━━━━━━━━━╇━━━━━━━━━━━━━━━┩\n",
              "│ input_layer_2 (<span style=\"color: #0087ff; text-decoration-color: #0087ff\">InputLayer</span>)      │ (<span style=\"color: #00d7ff; text-decoration-color: #00d7ff\">None</span>, <span style=\"color: #00af00; text-decoration-color: #00af00\">5</span>, <span style=\"color: #00af00; text-decoration-color: #00af00\">21</span>)          │             <span style=\"color: #00af00; text-decoration-color: #00af00\">0</span> │\n",
              "├─────────────────────────────────┼────────────────────────┼───────────────┤\n",
              "│ LSTM_1_Manual (<span style=\"color: #0087ff; text-decoration-color: #0087ff\">LSTM</span>)            │ (<span style=\"color: #00d7ff; text-decoration-color: #00d7ff\">None</span>, <span style=\"color: #00af00; text-decoration-color: #00af00\">5</span>, <span style=\"color: #00af00; text-decoration-color: #00af00\">50</span>)          │        <span style=\"color: #00af00; text-decoration-color: #00af00\">14,400</span> │\n",
              "├─────────────────────────────────┼────────────────────────┼───────────────┤\n",
              "│ Dropout_Manual (<span style=\"color: #0087ff; text-decoration-color: #0087ff\">Dropout</span>)        │ (<span style=\"color: #00d7ff; text-decoration-color: #00d7ff\">None</span>, <span style=\"color: #00af00; text-decoration-color: #00af00\">5</span>, <span style=\"color: #00af00; text-decoration-color: #00af00\">50</span>)          │             <span style=\"color: #00af00; text-decoration-color: #00af00\">0</span> │\n",
              "├─────────────────────────────────┼────────────────────────┼───────────────┤\n",
              "│ LSTM_2_Manual (<span style=\"color: #0087ff; text-decoration-color: #0087ff\">LSTM</span>)            │ (<span style=\"color: #00d7ff; text-decoration-color: #00d7ff\">None</span>, <span style=\"color: #00af00; text-decoration-color: #00af00\">25</span>)             │         <span style=\"color: #00af00; text-decoration-color: #00af00\">7,600</span> │\n",
              "├─────────────────────────────────┼────────────────────────┼───────────────┤\n",
              "│ Output_Regressor (<span style=\"color: #0087ff; text-decoration-color: #0087ff\">Dense</span>)        │ (<span style=\"color: #00d7ff; text-decoration-color: #00d7ff\">None</span>, <span style=\"color: #00af00; text-decoration-color: #00af00\">1</span>)              │            <span style=\"color: #00af00; text-decoration-color: #00af00\">26</span> │\n",
              "└─────────────────────────────────┴────────────────────────┴───────────────┘\n",
              "</pre>\n"
            ]
          },
          "metadata": {}
        },
        {
          "output_type": "display_data",
          "data": {
            "text/plain": [
              "\u001b[1m Total params: \u001b[0m\u001b[38;5;34m22,026\u001b[0m (86.04 KB)\n"
            ],
            "text/html": [
              "<pre style=\"white-space:pre;overflow-x:auto;line-height:normal;font-family:Menlo,'DejaVu Sans Mono',consolas,'Courier New',monospace\"><span style=\"font-weight: bold\"> Total params: </span><span style=\"color: #00af00; text-decoration-color: #00af00\">22,026</span> (86.04 KB)\n",
              "</pre>\n"
            ]
          },
          "metadata": {}
        },
        {
          "output_type": "display_data",
          "data": {
            "text/plain": [
              "\u001b[1m Trainable params: \u001b[0m\u001b[38;5;34m22,026\u001b[0m (86.04 KB)\n"
            ],
            "text/html": [
              "<pre style=\"white-space:pre;overflow-x:auto;line-height:normal;font-family:Menlo,'DejaVu Sans Mono',consolas,'Courier New',monospace\"><span style=\"font-weight: bold\"> Trainable params: </span><span style=\"color: #00af00; text-decoration-color: #00af00\">22,026</span> (86.04 KB)\n",
              "</pre>\n"
            ]
          },
          "metadata": {}
        },
        {
          "output_type": "display_data",
          "data": {
            "text/plain": [
              "\u001b[1m Non-trainable params: \u001b[0m\u001b[38;5;34m0\u001b[0m (0.00 B)\n"
            ],
            "text/html": [
              "<pre style=\"white-space:pre;overflow-x:auto;line-height:normal;font-family:Menlo,'DejaVu Sans Mono',consolas,'Courier New',monospace\"><span style=\"font-weight: bold\"> Non-trainable params: </span><span style=\"color: #00af00; text-decoration-color: #00af00\">0</span> (0.00 B)\n",
              "</pre>\n"
            ]
          },
          "metadata": {}
        },
        {
          "output_type": "stream",
          "name": "stdout",
          "text": [
            "Epoch 1/50\n",
            "\u001b[1m1260/1260\u001b[0m \u001b[32m━━━━━━━━━━━━━━━━━━━━\u001b[0m\u001b[37m\u001b[0m \u001b[1m13s\u001b[0m 7ms/step - loss: 0.0111 - mean_absolute_error: 0.0659 - val_loss: 0.0016 - val_mean_absolute_error: 0.0307\n",
            "Epoch 2/50\n",
            "\u001b[1m1260/1260\u001b[0m \u001b[32m━━━━━━━━━━━━━━━━━━━━\u001b[0m\u001b[37m\u001b[0m \u001b[1m10s\u001b[0m 8ms/step - loss: 0.0014 - mean_absolute_error: 0.0278 - val_loss: 7.2234e-04 - val_mean_absolute_error: 0.0190\n",
            "Epoch 3/50\n",
            "\u001b[1m1260/1260\u001b[0m \u001b[32m━━━━━━━━━━━━━━━━━━━━\u001b[0m\u001b[37m\u001b[0m \u001b[1m10s\u001b[0m 7ms/step - loss: 8.7159e-04 - mean_absolute_error: 0.0211 - val_loss: 5.9333e-04 - val_mean_absolute_error: 0.0183\n",
            "Epoch 4/50\n",
            "\u001b[1m1260/1260\u001b[0m \u001b[32m━━━━━━━━━━━━━━━━━━━━\u001b[0m\u001b[37m\u001b[0m \u001b[1m10s\u001b[0m 7ms/step - loss: 6.8298e-04 - mean_absolute_error: 0.0188 - val_loss: 5.4430e-04 - val_mean_absolute_error: 0.0162\n",
            "Epoch 5/50\n",
            "\u001b[1m1260/1260\u001b[0m \u001b[32m━━━━━━━━━━━━━━━━━━━━\u001b[0m\u001b[37m\u001b[0m \u001b[1m10s\u001b[0m 7ms/step - loss: 5.6770e-04 - mean_absolute_error: 0.0170 - val_loss: 5.3671e-04 - val_mean_absolute_error: 0.0164\n",
            "Epoch 6/50\n",
            "\u001b[1m1260/1260\u001b[0m \u001b[32m━━━━━━━━━━━━━━━━━━━━\u001b[0m\u001b[37m\u001b[0m \u001b[1m8s\u001b[0m 6ms/step - loss: 5.3523e-04 - mean_absolute_error: 0.0160 - val_loss: 4.8237e-04 - val_mean_absolute_error: 0.0150\n",
            "Epoch 7/50\n",
            "\u001b[1m1260/1260\u001b[0m \u001b[32m━━━━━━━━━━━━━━━━━━━━\u001b[0m\u001b[37m\u001b[0m \u001b[1m11s\u001b[0m 7ms/step - loss: 5.5966e-04 - mean_absolute_error: 0.0158 - val_loss: 4.3529e-04 - val_mean_absolute_error: 0.0139\n",
            "Epoch 8/50\n",
            "\u001b[1m1260/1260\u001b[0m \u001b[32m━━━━━━━━━━━━━━━━━━━━\u001b[0m\u001b[37m\u001b[0m \u001b[1m9s\u001b[0m 7ms/step - loss: 4.7540e-04 - mean_absolute_error: 0.0151 - val_loss: 5.8570e-04 - val_mean_absolute_error: 0.0179\n",
            "Epoch 9/50\n",
            "\u001b[1m1260/1260\u001b[0m \u001b[32m━━━━━━━━━━━━━━━━━━━━\u001b[0m\u001b[37m\u001b[0m \u001b[1m10s\u001b[0m 7ms/step - loss: 4.8999e-04 - mean_absolute_error: 0.0152 - val_loss: 4.3759e-04 - val_mean_absolute_error: 0.0144\n",
            "Epoch 10/50\n",
            "\u001b[1m1260/1260\u001b[0m \u001b[32m━━━━━━━━━━━━━━━━━━━━\u001b[0m\u001b[37m\u001b[0m \u001b[1m10s\u001b[0m 7ms/step - loss: 4.3619e-04 - mean_absolute_error: 0.0143 - val_loss: 4.0817e-04 - val_mean_absolute_error: 0.0136\n",
            "Epoch 11/50\n",
            "\u001b[1m1260/1260\u001b[0m \u001b[32m━━━━━━━━━━━━━━━━━━━━\u001b[0m\u001b[37m\u001b[0m \u001b[1m8s\u001b[0m 7ms/step - loss: 4.5606e-04 - mean_absolute_error: 0.0144 - val_loss: 4.2783e-04 - val_mean_absolute_error: 0.0149\n",
            "Epoch 12/50\n",
            "\u001b[1m1260/1260\u001b[0m \u001b[32m━━━━━━━━━━━━━━━━━━━━\u001b[0m\u001b[37m\u001b[0m \u001b[1m9s\u001b[0m 7ms/step - loss: 4.0428e-04 - mean_absolute_error: 0.0136 - val_loss: 4.4246e-04 - val_mean_absolute_error: 0.0149\n",
            "Epoch 13/50\n",
            "\u001b[1m1260/1260\u001b[0m \u001b[32m━━━━━━━━━━━━━━━━━━━━\u001b[0m\u001b[37m\u001b[0m \u001b[1m10s\u001b[0m 7ms/step - loss: 4.2212e-04 - mean_absolute_error: 0.0141 - val_loss: 4.3679e-04 - val_mean_absolute_error: 0.0152\n",
            "Epoch 14/50\n",
            "\u001b[1m1260/1260\u001b[0m \u001b[32m━━━━━━━━━━━━━━━━━━━━\u001b[0m\u001b[37m\u001b[0m \u001b[1m10s\u001b[0m 8ms/step - loss: 4.2723e-04 - mean_absolute_error: 0.0136 - val_loss: 4.4147e-04 - val_mean_absolute_error: 0.0146\n",
            "Epoch 15/50\n",
            "\u001b[1m1260/1260\u001b[0m \u001b[32m━━━━━━━━━━━━━━━━━━━━\u001b[0m\u001b[37m\u001b[0m \u001b[1m9s\u001b[0m 7ms/step - loss: 3.9215e-04 - mean_absolute_error: 0.0134 - val_loss: 4.1888e-04 - val_mean_absolute_error: 0.0139\n"
          ]
        }
      ]
    },
    {
      "cell_type": "markdown",
      "source": [
        "model kedua yang dimodifikasi manual memiliki perbedaan di regularisasinya yang ditambahi dropout. return sequences = true memastikan outputnya ada di setiap step dan dropout secara acak menonaktifkan koneksi untuk mencegah ketergantungan pada fitur tertentu. koneksi di set 0.2 atau 20%."
      ],
      "metadata": {
        "id": "JbfCMVxRsHwL"
      }
    },
    {
      "cell_type": "code",
      "source": [
        "def build_model(hp):\n",
        "    hp_units = hp.Int('units', min_value=10, max_value=60, step=10)\n",
        "    hp_dropout = hp.Float('dropout', min_value=0.1, max_value=0.5, step=0.1)\n",
        "    hp_learning_rate = hp.Choice('learning_rate', values=[1e-2, 1e-3, 1e-4])\n",
        "\n",
        "    input_layer = Input(shape=input_shape)\n",
        "    lstm_layer = LSTM(units=hp_units)(input_layer)\n",
        "    dropout_layer = Dropout(rate=hp_dropout)(lstm_layer)\n",
        "    output_layer = Dense(1, activation='linear')(dropout_layer)\n",
        "\n",
        "    model = Model(inputs=input_layer, outputs=output_layer)\n",
        "\n",
        "    model.compile(optimizer=Adam(learning_rate=hp_learning_rate),\n",
        "                  loss='mean_squared_error',\n",
        "                  metrics=['mean_absolute_error'])\n",
        "    return model"
      ],
      "metadata": {
        "id": "liVA2m90ZEp9"
      },
      "execution_count": null,
      "outputs": []
    },
    {
      "cell_type": "markdown",
      "source": [
        "selanjutnya untuk hyperparameter tuningnya pertama dibuat function untuk template untuk semua model yang akan dicoba oleh keras tuner, bertugas define arsitektur model dimana beberapa nilainya bisa diubah-ubah. hp.int untuk untuk bilangan bulat, float untuk float dan hp.choice untuk pilihan 0.1, 0.001 dan 0.0001"
      ],
      "metadata": {
        "id": "fLnAtR-yuE7w"
      }
    },
    {
      "cell_type": "code",
      "source": [
        "tuner = kt.RandomSearch(\n",
        "    build_model,\n",
        "    objective='val_loss',\n",
        "    max_trials=10,\n",
        "    executions_per_trial=1,\n",
        "    directory='keras_tuner_dir',\n",
        "    project_name='air_quality_lstm'\n",
        ")\n",
        "\n",
        "\n",
        "tuner.search_space_summary()\n"
      ],
      "metadata": {
        "colab": {
          "base_uri": "https://localhost:8080/"
        },
        "id": "Yg6GeE8zZPmw",
        "outputId": "ab2fdc6f-c936-4ca0-d6ba-9d480f986132"
      },
      "execution_count": null,
      "outputs": [
        {
          "output_type": "stream",
          "name": "stdout",
          "text": [
            "Search space summary\n",
            "Default search space size: 3\n",
            "units (Int)\n",
            "{'default': None, 'conditions': [], 'min_value': 10, 'max_value': 60, 'step': 10, 'sampling': 'linear'}\n",
            "dropout (Float)\n",
            "{'default': 0.1, 'conditions': [], 'min_value': 0.1, 'max_value': 0.5, 'step': 0.1, 'sampling': 'linear'}\n",
            "learning_rate (Choice)\n",
            "{'default': 0.01, 'conditions': [], 'values': [0.01, 0.001, 0.0001], 'ordered': True}\n"
          ]
        }
      ]
    },
    {
      "cell_type": "markdown",
      "source": [
        "bagian ini untuk configure tuner untuk tujuan searchingnya. diset val loss sebagai metrik yang dicari. max trials berarti berapa lama dilakukan trialsnya, 10 percobaan diset dan setlah itu tunernya berhetni. directory dan project name untuk menyimpan hasil percobaan."
      ],
      "metadata": {
        "id": "OXTtg9dnwEdS"
      }
    },
    {
      "cell_type": "code",
      "source": [
        "tuner.search(\n",
        "    X_train, y_train,\n",
        "    epochs=20,\n",
        "    validation_data=(X_val, y_val),\n",
        "    callbacks=[early_stopping]\n",
        ")\n",
        "\n",
        "best_model_tuned = tuner.get_best_models(num_models=1)[0]\n",
        "best_hyperparameters = tuner.get_best_hyperparameters(num_trials=1)[0]\n",
        "\n",
        "print(f\" - Units LSTM: {best_hyperparameters.get('units')}\")\n",
        "print(f\" - Dropout Rate: {round(best_hyperparameters.get('dropout'),2)}\")\n",
        "print(f\" - Learning Rate: {best_hyperparameters.get('learning_rate')}\")\n",
        "\n",
        "print(\"\\nArsitektur Model Terbaik Hasil Tuning:\")\n",
        "best_model_tuned.summary()"
      ],
      "metadata": {
        "colab": {
          "base_uri": "https://localhost:8080/",
          "height": 485
        },
        "id": "dImzuzyEZWZK",
        "outputId": "b205bd5c-9847-4b10-e585-44d77bfa96e3"
      },
      "execution_count": null,
      "outputs": [
        {
          "output_type": "stream",
          "name": "stdout",
          "text": [
            "Trial 10 Complete [00h 02m 53s]\n",
            "val_loss: 0.0006159143522381783\n",
            "\n",
            "Best val_loss So Far: 0.00039165563066489995\n",
            "Total elapsed time: 00h 27m 17s\n",
            " - Units LSTM: 30\n",
            " - Dropout Rate: 0.1\n",
            " - Learning Rate: 0.001\n",
            "\n",
            "Arsitektur Model Terbaik Hasil Tuning:\n"
          ]
        },
        {
          "output_type": "stream",
          "name": "stderr",
          "text": [
            "/usr/local/lib/python3.11/dist-packages/keras/src/saving/saving_lib.py:757: UserWarning: Skipping variable loading for optimizer 'adam', because it has 2 variables whereas the saved optimizer has 12 variables. \n",
            "  saveable.load_own_variables(weights_store.get(inner_path))\n"
          ]
        },
        {
          "output_type": "display_data",
          "data": {
            "text/plain": [
              "\u001b[1mModel: \"functional\"\u001b[0m\n"
            ],
            "text/html": [
              "<pre style=\"white-space:pre;overflow-x:auto;line-height:normal;font-family:Menlo,'DejaVu Sans Mono',consolas,'Courier New',monospace\"><span style=\"font-weight: bold\">Model: \"functional\"</span>\n",
              "</pre>\n"
            ]
          },
          "metadata": {}
        },
        {
          "output_type": "display_data",
          "data": {
            "text/plain": [
              "┏━━━━━━━━━━━━━━━━━━━━━━━━━━━━━━━━━┳━━━━━━━━━━━━━━━━━━━━━━━━┳━━━━━━━━━━━━━━━┓\n",
              "┃\u001b[1m \u001b[0m\u001b[1mLayer (type)                   \u001b[0m\u001b[1m \u001b[0m┃\u001b[1m \u001b[0m\u001b[1mOutput Shape          \u001b[0m\u001b[1m \u001b[0m┃\u001b[1m \u001b[0m\u001b[1m      Param #\u001b[0m\u001b[1m \u001b[0m┃\n",
              "┡━━━━━━━━━━━━━━━━━━━━━━━━━━━━━━━━━╇━━━━━━━━━━━━━━━━━━━━━━━━╇━━━━━━━━━━━━━━━┩\n",
              "│ input_layer (\u001b[38;5;33mInputLayer\u001b[0m)        │ (\u001b[38;5;45mNone\u001b[0m, \u001b[38;5;34m5\u001b[0m, \u001b[38;5;34m21\u001b[0m)          │             \u001b[38;5;34m0\u001b[0m │\n",
              "├─────────────────────────────────┼────────────────────────┼───────────────┤\n",
              "│ lstm (\u001b[38;5;33mLSTM\u001b[0m)                     │ (\u001b[38;5;45mNone\u001b[0m, \u001b[38;5;34m30\u001b[0m)             │         \u001b[38;5;34m6,240\u001b[0m │\n",
              "├─────────────────────────────────┼────────────────────────┼───────────────┤\n",
              "│ dropout (\u001b[38;5;33mDropout\u001b[0m)               │ (\u001b[38;5;45mNone\u001b[0m, \u001b[38;5;34m30\u001b[0m)             │             \u001b[38;5;34m0\u001b[0m │\n",
              "├─────────────────────────────────┼────────────────────────┼───────────────┤\n",
              "│ dense (\u001b[38;5;33mDense\u001b[0m)                   │ (\u001b[38;5;45mNone\u001b[0m, \u001b[38;5;34m1\u001b[0m)              │            \u001b[38;5;34m31\u001b[0m │\n",
              "└─────────────────────────────────┴────────────────────────┴───────────────┘\n"
            ],
            "text/html": [
              "<pre style=\"white-space:pre;overflow-x:auto;line-height:normal;font-family:Menlo,'DejaVu Sans Mono',consolas,'Courier New',monospace\">┏━━━━━━━━━━━━━━━━━━━━━━━━━━━━━━━━━┳━━━━━━━━━━━━━━━━━━━━━━━━┳━━━━━━━━━━━━━━━┓\n",
              "┃<span style=\"font-weight: bold\"> Layer (type)                    </span>┃<span style=\"font-weight: bold\"> Output Shape           </span>┃<span style=\"font-weight: bold\">       Param # </span>┃\n",
              "┡━━━━━━━━━━━━━━━━━━━━━━━━━━━━━━━━━╇━━━━━━━━━━━━━━━━━━━━━━━━╇━━━━━━━━━━━━━━━┩\n",
              "│ input_layer (<span style=\"color: #0087ff; text-decoration-color: #0087ff\">InputLayer</span>)        │ (<span style=\"color: #00d7ff; text-decoration-color: #00d7ff\">None</span>, <span style=\"color: #00af00; text-decoration-color: #00af00\">5</span>, <span style=\"color: #00af00; text-decoration-color: #00af00\">21</span>)          │             <span style=\"color: #00af00; text-decoration-color: #00af00\">0</span> │\n",
              "├─────────────────────────────────┼────────────────────────┼───────────────┤\n",
              "│ lstm (<span style=\"color: #0087ff; text-decoration-color: #0087ff\">LSTM</span>)                     │ (<span style=\"color: #00d7ff; text-decoration-color: #00d7ff\">None</span>, <span style=\"color: #00af00; text-decoration-color: #00af00\">30</span>)             │         <span style=\"color: #00af00; text-decoration-color: #00af00\">6,240</span> │\n",
              "├─────────────────────────────────┼────────────────────────┼───────────────┤\n",
              "│ dropout (<span style=\"color: #0087ff; text-decoration-color: #0087ff\">Dropout</span>)               │ (<span style=\"color: #00d7ff; text-decoration-color: #00d7ff\">None</span>, <span style=\"color: #00af00; text-decoration-color: #00af00\">30</span>)             │             <span style=\"color: #00af00; text-decoration-color: #00af00\">0</span> │\n",
              "├─────────────────────────────────┼────────────────────────┼───────────────┤\n",
              "│ dense (<span style=\"color: #0087ff; text-decoration-color: #0087ff\">Dense</span>)                   │ (<span style=\"color: #00d7ff; text-decoration-color: #00d7ff\">None</span>, <span style=\"color: #00af00; text-decoration-color: #00af00\">1</span>)              │            <span style=\"color: #00af00; text-decoration-color: #00af00\">31</span> │\n",
              "└─────────────────────────────────┴────────────────────────┴───────────────┘\n",
              "</pre>\n"
            ]
          },
          "metadata": {}
        },
        {
          "output_type": "display_data",
          "data": {
            "text/plain": [
              "\u001b[1m Total params: \u001b[0m\u001b[38;5;34m6,271\u001b[0m (24.50 KB)\n"
            ],
            "text/html": [
              "<pre style=\"white-space:pre;overflow-x:auto;line-height:normal;font-family:Menlo,'DejaVu Sans Mono',consolas,'Courier New',monospace\"><span style=\"font-weight: bold\"> Total params: </span><span style=\"color: #00af00; text-decoration-color: #00af00\">6,271</span> (24.50 KB)\n",
              "</pre>\n"
            ]
          },
          "metadata": {}
        },
        {
          "output_type": "display_data",
          "data": {
            "text/plain": [
              "\u001b[1m Trainable params: \u001b[0m\u001b[38;5;34m6,271\u001b[0m (24.50 KB)\n"
            ],
            "text/html": [
              "<pre style=\"white-space:pre;overflow-x:auto;line-height:normal;font-family:Menlo,'DejaVu Sans Mono',consolas,'Courier New',monospace\"><span style=\"font-weight: bold\"> Trainable params: </span><span style=\"color: #00af00; text-decoration-color: #00af00\">6,271</span> (24.50 KB)\n",
              "</pre>\n"
            ]
          },
          "metadata": {}
        },
        {
          "output_type": "display_data",
          "data": {
            "text/plain": [
              "\u001b[1m Non-trainable params: \u001b[0m\u001b[38;5;34m0\u001b[0m (0.00 B)\n"
            ],
            "text/html": [
              "<pre style=\"white-space:pre;overflow-x:auto;line-height:normal;font-family:Menlo,'DejaVu Sans Mono',consolas,'Courier New',monospace\"><span style=\"font-weight: bold\"> Non-trainable params: </span><span style=\"color: #00af00; text-decoration-color: #00af00\">0</span> (0.00 B)\n",
              "</pre>\n"
            ]
          },
          "metadata": {}
        }
      ]
    },
    {
      "cell_type": "markdown",
      "source": [
        "trakhir tuner search untuk start tuning dengan x train dan y train sebagai model percobaannya. epoch 20 dijalankan sebanyak trial yang sudah diset sebelomnya. total 200 epoch. xval dan yval untuk indikator tuner kita memutuskan performa model mana yang lebih baik. Kita tidak perlu lagi menjalankan epoch tambahan setelah proses hyperparameter tuning selesai karena proses tuner.search() itu sendiri bukan hanya mencari, tetapi juga sekaligus melatih."
      ],
      "metadata": {
        "id": "m8QpycChxOyG"
      }
    },
    {
      "cell_type": "markdown",
      "source": [
        "**EVALUATION**"
      ],
      "metadata": {
        "id": "5XONJkz8zGou"
      }
    },
    {
      "cell_type": "code",
      "source": [
        "models = {\n",
        "    \"Baseline\": model_baseline,\n",
        "    \"Modifikasi Manual\": model_manual,\n",
        "    \"Hasil Tuning\": best_model_tuned\n",
        "}\n",
        "\n",
        "evaluation_results = []\n",
        "\n",
        "dummy_y_test = np.zeros((len(y_test), X_train.shape[2]))\n",
        "at_column_index = list(train_scaled_df.columns).index('at_degree_c')\n",
        "dummy_y_test[:, at_column_index] = y_test.flatten()\n",
        "y_test_original = scaler.inverse_transform(dummy_y_test)[:, at_column_index]"
      ],
      "metadata": {
        "id": "sjv4BNJ9ZYF4"
      },
      "execution_count": null,
      "outputs": []
    },
    {
      "cell_type": "markdown",
      "source": [
        "set list untuk tiap model dan dictionary untul hasil eval. lalu array dibuat untuk mengakomodasi scaler yang dilatih pada 21 fitur dalam varibale dummy_y_test. at_column_index untuk mencari index kolum target 'at_degree_c'. y_tes lalu dimasukkan ke kolom yang benar. terakhir, inverse transform dilakukan untuk y test untuk mengembalikan range 0-1 ke nilai sebenarnya untuk evaluation."
      ],
      "metadata": {
        "id": "4avD8AJqysZp"
      }
    },
    {
      "cell_type": "code",
      "source": [
        "for model_name, model in models.items():\n",
        "    print(f\"--- Mengevaluasi Model: {model_name} ---\")\n",
        "\n",
        "    predictions_scaled = model.predict(X_test)\n",
        "\n",
        "    dummy_predictions = np.zeros((len(predictions_scaled), X_train.shape[2]))\n",
        "    dummy_predictions[:, at_column_index] = predictions_scaled.flatten()\n",
        "    predictions_original = scaler.inverse_transform(dummy_predictions)[:, at_column_index]\n",
        "\n",
        "    mae = mean_absolute_error(y_test_original, predictions_original)\n",
        "    mse = mean_squared_error(y_test_original, predictions_original)\n",
        "    r2 = r2_score(y_test_original, predictions_original)\n",
        "\n",
        "    print(f\"MAE: {mae:.4f}\")\n",
        "    print(f\"MSE: {mse:.4f}\")\n",
        "    print(f\"R2 Score: {r2:.4f}\\n\")\n",
        "\n",
        "    evaluation_results.append({\n",
        "        \"Model\": model_name,\n",
        "        \"MAE\": mae,\n",
        "        \"MSE\": mse,\n",
        "        \"R2 Score\": r2\n",
        "    })\n",
        "\n",
        "results_df = pd.DataFrame(evaluation_results)\n",
        "print(\"--- Ringkasan Hasil Evaluasi ---\")\n",
        "print(results_df.to_string())"
      ],
      "metadata": {
        "colab": {
          "base_uri": "https://localhost:8080/"
        },
        "id": "Rv1A1-EMkMO4",
        "outputId": "730bb113-b5b8-40f5-8c66-c229d51bfeaf"
      },
      "execution_count": null,
      "outputs": [
        {
          "output_type": "stream",
          "name": "stdout",
          "text": [
            "--- Mengevaluasi Model: Baseline ---\n",
            "\u001b[1m158/158\u001b[0m \u001b[32m━━━━━━━━━━━━━━━━━━━━\u001b[0m\u001b[37m\u001b[0m \u001b[1m0s\u001b[0m 2ms/step\n",
            "MAE: 0.5875\n",
            "MSE: 0.6960\n",
            "R2 Score: 0.9576\n",
            "\n",
            "--- Mengevaluasi Model: Modifikasi Manual ---\n",
            "\u001b[1m158/158\u001b[0m \u001b[32m━━━━━━━━━━━━━━━━━━━━\u001b[0m\u001b[37m\u001b[0m \u001b[1m1s\u001b[0m 3ms/step\n",
            "MAE: 0.5988\n",
            "MSE: 0.6982\n",
            "R2 Score: 0.9575\n",
            "\n",
            "--- Mengevaluasi Model: Hasil Tuning ---\n",
            "\u001b[1m158/158\u001b[0m \u001b[32m━━━━━━━━━━━━━━━━━━━━\u001b[0m\u001b[37m\u001b[0m \u001b[1m0s\u001b[0m 2ms/step\n",
            "MAE: 0.5530\n",
            "MSE: 0.6616\n",
            "R2 Score: 0.9597\n",
            "\n",
            "--- Ringkasan Hasil Evaluasi ---\n",
            "               Model       MAE       MSE  R2 Score\n",
            "0           Baseline  0.587495  0.695950  0.957601\n",
            "1  Modifikasi Manual  0.598827  0.698205  0.957463\n",
            "2       Hasil Tuning  0.553020  0.661618  0.959692\n"
          ]
        }
      ]
    },
    {
      "cell_type": "markdown",
      "source": [
        "dibuat looping untuk mengevalusi setiap modelnya. pertama dibuat prediksi untuk x_test. lalu inverse transform hasil predictionnya. dan terakhir metrik evaluation dihitung dan diprint."
      ],
      "metadata": {
        "id": "TD6ty05n1GNj"
      }
    },
    {
      "cell_type": "markdown",
      "source": [
        "**PEMBAHASAN ANALISIS**"
      ],
      "metadata": {
        "id": "lpDgwbqt2mh2"
      }
    },
    {
      "cell_type": "markdown",
      "source": [
        "membandingkan ketiga model yang sudah kita buat (baseline model, modifikasi baseline, dan hyperparameter tuning) kita bisa melihat bahwa hasil tuning memiliki nilai yang paling baik, dengan mae dan mse paling kecil di angka 0.553020 dan 0.661618 dan r2 score paling tinggi di angka 0.959692 yang dapat dikategorikan cukup baik. hasil yang terlihat mungkin tidak memiliki hasil yang berbeda sangat jauh. namun, model baseline yang terlalu sederhana mungkin menyebabkan underfiting. Sementara hasil tuning secara sistematis menemukan konfigurasi yang paling optimal untuk data ini yaitu LSTM yang lebih banyak dan dropout yang lebih rendah. Hasil mungkin bisa diimprove jika search tuner yang dibuat memiliki arsitektur yang lebih bervariasi seperti layer yang lebih, atau jenis layer lain seperti GRU."
      ],
      "metadata": {
        "id": "CzDv-ebg25R9"
      }
    },
    {
      "cell_type": "markdown",
      "source": [
        "**KESIMPULAN**"
      ],
      "metadata": {
        "id": "FFqaxw326TIy"
      }
    },
    {
      "cell_type": "markdown",
      "source": [
        "Kesimpulannya hasil tuning menjadi nilai yang lebih baik karena proses hyperparameter menemukan komposisi yang paling bagus yaitu units yang kita set 60. hal ini memberikan kapasitas memori yang memungkinkan layer lstm kita belajar lebih baik, model kita dapat menangkap pola-pola yang lebih detail dan kompleks dibandingkan dengan model baseline. Lalu regularisation dropout 0.1 menjadi pilihan yang lebih tepat. walaupun dihambat secara ringan untuk kapasitas yang lebih besar 60, regularisasi ini cukup untuk mencegah model menghafal datanya atau overfitting. secara singkat, kapasitas yang lebih besar dengan regularisasi yang lebih terkontrol dan tidak berlebihan menjadi model yang optimal."
      ],
      "metadata": {
        "id": "km35pGjV6Vvq"
      }
    },
    {
      "cell_type": "markdown",
      "source": [
        "**BONUS QUESTION**"
      ],
      "metadata": {
        "id": "DZDicqNE5vWD"
      }
    },
    {
      "cell_type": "markdown",
      "source": [
        "Ya, problem ini dapat menggunakan multivariate timeseries. suatu dataset dapat dikategorikan dapat dikatakan multivariate ketika memiliki lebih dari satu variabel waktu yang saling berhubungan dan **memprediksi lebih dari satu target**. berbeda dengan multivariable yang saya kerjakan sekarang karena hanya **memprediksi satu target.**  Untuk problem ini, terlihat ada banyak variable yang saling berkorelasi satu sama lain untuk menjadi indikator dalam memprediksi target. sebagai contoh PM2.5, suhu(AT), kelembapan(RH) dari total 20 fitur merupakan variabel yang dicatat secara urutan waktu yang dapat digunakan untuk memprediksi sesuatu. Hubungan variabel yang kuat juga terlihat sebagai contoh radiasi matahari dan kelembapan yang mempengaruhi suhu udara. Tujuan baru bisa dilakukan untuk memprediksi ketiga target tersebut sekaligus (AT, RH, PM2.5). Tentunya sequences dan arsitekturnya harus diseuaikan dan evaluasi metriksnya untuk seluruh targetnya."
      ],
      "metadata": {
        "id": "S5Wr4-Hn5x2g"
      }
    },
    {
      "cell_type": "code",
      "source": [],
      "metadata": {
        "id": "UUW1UoAL7LEs"
      },
      "execution_count": null,
      "outputs": []
    }
  ]
}